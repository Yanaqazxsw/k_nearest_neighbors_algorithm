{
 "cells": [
  {
   "cell_type": "code",
   "execution_count": 9,
   "id": "60833198",
   "metadata": {},
   "outputs": [
    {
     "name": "stdout",
     "output_type": "stream",
     "text": [
      "Test accuracy: 1.0\n"
     ]
    }
   ],
   "source": [
    "import pandas as pd\n",
    "from sklearn.model_selection import train_test_split\n",
    "from sklearn.neighbors import KNeighborsClassifier\n",
    "\n",
    "# загрузка данных из Excel\n",
    "df = pd.read_excel(r\"C:\\Users\\andro\\Downloads\\K ближайших соседей(1).xlsx\", sheet_name='Sheet', usecols='A:D')\n",
    "\n",
    "df.head()\n",
    "\n",
    "X = df.iloc[:, :-1].values \n",
    "y = df.iloc[:, 3].values\n",
    "\n",
    "# разделение данных на обучающую и тестовую выборки\n",
    "X_train, X_test, y_train, y_test = train_test_split (X, y, test_size=0.20)\n",
    "\n",
    "# создание объекта классификатора с параметром k=3\n",
    "knn = KNeighborsClassifier(n_neighbors=5)\n",
    "\n",
    "# обучение модели на обучающей выборке\n",
    "knn.fit(X_train, y_train)\n",
    "\n",
    "# оценка качества модели на тестовой выборке\n",
    "accuracy = knn.score(X_test, y_test)\n",
    "print(f'Test accuracy: {accuracy}')"
   ]
  },
  {
   "cell_type": "code",
   "execution_count": null,
   "id": "bc59641c",
   "metadata": {},
   "outputs": [],
   "source": []
  }
 ],
 "metadata": {
  "kernelspec": {
   "display_name": "Python 3 (ipykernel)",
   "language": "python",
   "name": "python3"
  },
  "language_info": {
   "codemirror_mode": {
    "name": "ipython",
    "version": 3
   },
   "file_extension": ".py",
   "mimetype": "text/x-python",
   "name": "python",
   "nbconvert_exporter": "python",
   "pygments_lexer": "ipython3",
   "version": "3.11.4"
  }
 },
 "nbformat": 4,
 "nbformat_minor": 5
}
